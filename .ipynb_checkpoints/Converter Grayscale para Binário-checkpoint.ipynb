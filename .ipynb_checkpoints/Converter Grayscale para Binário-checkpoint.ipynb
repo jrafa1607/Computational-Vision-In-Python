{
 "cells": [
  {
   "cell_type": "code",
   "execution_count": 1,
   "metadata": {},
   "outputs": [],
   "source": [
    "#Importando Libs\n",
    "import numpy as np\n",
    "import cv2"
   ]
  },
  {
   "cell_type": "code",
   "execution_count": 2,
   "metadata": {},
   "outputs": [],
   "source": [
    "#Importando a imagem\n",
    "img = cv2.imread('D:/OneDrive/OneDrive - Etec Centro Paula Souza/Codes/Computational Vision/Imagens/lenna.jpg')"
   ]
  },
  {
   "cell_type": "code",
   "execution_count": 3,
   "metadata": {},
   "outputs": [],
   "source": [
    "#Inicialmente, converte-se a imagem colorida para Escalas de Cinza\n",
    "img_gray=cv2.cvtColor(img, cv2.COLOR_BGR2GRAY)\n",
    "\n",
    "cv2.imshow('Imagem Grayscale', img_gray);\n",
    "cv2.waitKey(0);"
   ]
  },
  {
   "cell_type": "code",
   "execution_count": 4,
   "metadata": {},
   "outputs": [],
   "source": [
    "#Método 01 - Binarização de uma Imagem em Escalas de Cinza, percorre-se os pixels manualmente"
   ]
  },
  {
   "cell_type": "code",
   "execution_count": 4,
   "metadata": {},
   "outputs": [],
   "source": [
    "#Cria-se uma matriz com as dimensões da imagem e define-se o limiar\n",
    "img_bin=np.zeros((img.shape[0],img.shape[1]), dtype=\"uint8\")\n",
    "T = 105"
   ]
  },
  {
   "cell_type": "code",
   "execution_count": 5,
   "metadata": {},
   "outputs": [],
   "source": [
    "#Percorre-se os pixels da imagem, e se o pixel for maior que o Threshold, recebe 255, senão recebe 0\n",
    "for l in range (img.shape[0]):\n",
    "     for c in range (img.shape[1]):\n",
    "         if(img_gray[l,c]>T):\n",
    "             img_bin[l,c] = 255\n",
    "         else: img_bin[l,c] = 0"
   ]
  },
  {
   "cell_type": "code",
   "execution_count": 6,
   "metadata": {},
   "outputs": [],
   "source": [
    "#Exibição das imagens em Grayscale e a Imagem Binarizada\n",
    "cv2.imshow('Imagem Grayscale', img_gray);\n",
    "cv2.imshow('Imagem Binaria', img_bin);\n",
    "cv2.waitKey(0);"
   ]
  },
  {
   "cell_type": "code",
   "execution_count": 7,
   "metadata": {},
   "outputs": [],
   "source": [
    "#Método 02 - Binarização de uma Imagem em Escalas de Cinza, Função THRESH_BINARY"
   ]
  },
  {
   "cell_type": "code",
   "execution_count": 8,
   "metadata": {},
   "outputs": [],
   "source": [
    "T = 98\n",
    "T ,img_bin = cv2.threshold(img_gray, T, 255, cv2.THRESH_BINARY)\n",
    "\n",
    "cv2.imshow('Imagem Grayscale', img_gray)\n",
    "cv2.imshow('Imagem Binaria', img_bin)\n",
    "cv2.waitKey(0);"
   ]
  },
  {
   "cell_type": "code",
   "execution_count": 9,
   "metadata": {},
   "outputs": [],
   "source": [
    "#Método 03 - Binarização de uma Imagem em Escalas de Cinza com o método OTSU"
   ]
  },
  {
   "cell_type": "code",
   "execution_count": 10,
   "metadata": {},
   "outputs": [
    {
     "name": "stdout",
     "output_type": "stream",
     "text": [
      "Valor Threshold:  117.0\n"
     ]
    }
   ],
   "source": [
    "otsu_threshold, img_bin = cv2.threshold(img_gray, 0, 255, cv2.THRESH_BINARY + cv2.THRESH_OTSU)\n",
    "\n",
    "cv2.imshow('Imagem Grayscale', img_gray)\n",
    "cv2.imshow('Imagem Binaria', img_bin)\n",
    "cv2.waitKey(0);\n",
    "\n",
    "print(\"Valor Threshold: \", otsu_threshold)"
   ]
  }
 ],
 "metadata": {
  "kernelspec": {
   "display_name": "Python 3 (ipykernel)",
   "language": "python",
   "name": "python3"
  },
  "language_info": {
   "codemirror_mode": {
    "name": "ipython",
    "version": 3
   },
   "file_extension": ".py",
   "mimetype": "text/x-python",
   "name": "python",
   "nbconvert_exporter": "python",
   "pygments_lexer": "ipython3",
   "version": "3.9.12"
  }
 },
 "nbformat": 4,
 "nbformat_minor": 4
}
