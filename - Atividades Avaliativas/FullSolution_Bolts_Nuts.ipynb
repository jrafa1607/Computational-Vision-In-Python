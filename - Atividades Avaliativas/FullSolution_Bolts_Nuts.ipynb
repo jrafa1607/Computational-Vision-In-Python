{
 "cells": [
  {
   "cell_type": "code",
   "execution_count": 1,
   "metadata": {},
   "outputs": [],
   "source": [
    "#Import das Libs\n",
    "import numpy as np\n",
    "import cv2\n",
    "from matplotlib import pyplot as plot"
   ]
  },
  {
   "cell_type": "code",
   "execution_count": 2,
   "metadata": {},
   "outputs": [],
   "source": [
    "#Definição da Imagem - Parafusos e Porcas (Indo de 01 a 20)\n",
    "im = \"01\""
   ]
  },
  {
   "cell_type": "code",
   "execution_count": 3,
   "metadata": {},
   "outputs": [],
   "source": [
    "#Import da Imagem do OneDrive\n",
    "img = cv2.imread('D:/OneDrive/OneDrive - Etec Centro Paula Souza/Codes/Computational Vision/Parafusos e Porcas/img' + str(im) + '.jpg')"
   ]
  },
  {
   "cell_type": "code",
   "execution_count": 4,
   "metadata": {},
   "outputs": [],
   "source": [
    "#Visualização da Imagem Importada\n",
    "cv2.imshow('Imagem', img);\n",
    "cv2.waitKey(0);"
   ]
  },
  {
   "cell_type": "code",
   "execution_count": 5,
   "metadata": {},
   "outputs": [],
   "source": [
    "#Separação em três bandas indenpendentes (BRG)\n",
    "B, G, R = cv2.split(img)\n",
    "\n",
    "cv2.imshow('Banda azul', B);\n",
    "cv2.imshow('Banda verde', G);\n",
    "cv2.imshow('Banda vermelha', R);\n",
    "cv2.waitKey(0);"
   ]
  },
  {
   "cell_type": "code",
   "execution_count": 5,
   "metadata": {},
   "outputs": [],
   "source": [
    "#Converte-se a imagem colorida (BRG) para Escalas de Cinza\n",
    "img_gray=cv2.cvtColor(img, cv2.COLOR_BGR2GRAY)\n",
    "\n",
    "cv2.imshow('Imagem Grayscale', img_gray);\n",
    "cv2.waitKey(0);"
   ]
  },
  {
   "cell_type": "code",
   "execution_count": 6,
   "metadata": {},
   "outputs": [
    {
     "name": "stdout",
     "output_type": "stream",
     "text": [
      "Valor Threshold:  163.0\n"
     ]
    }
   ],
   "source": [
    "#Binarização de uma Imagem Grayscale por meio da Função THRESH_BINARY + THRESH_OTSU\n",
    "otsu_threshold, img_bin = cv2.threshold(img_gray, 0, 255, cv2.THRESH_BINARY + cv2.THRESH_OTSU)\n",
    "\n",
    "cv2.imshow('Imagem Binaria', img_bin)\n",
    "cv2.waitKey(0);\n",
    "\n",
    "print(\"Valor Threshold: \", otsu_threshold)"
   ]
  },
  {
   "cell_type": "code",
   "execution_count": 7,
   "metadata": {},
   "outputs": [],
   "source": [
    "#Quando o resultado não é satisfatório, \n",
    "#uma possível opção é determinar um valor de Threshold e executar a Função THRESH_BINARY"
   ]
  },
  {
   "cell_type": "code",
   "execution_count": 8,
   "metadata": {},
   "outputs": [],
   "source": [
    "#Uma forma automática de verificar se o resultado é satisfatório, é contabilizar os componentes conexos detectados.\n",
    "#Para esta aplicação, é provável que um valor elevado de componentes (Acima de 100, por exemplo) \n",
    "#represente um resultado insatisfatório.\n",
    "\n",
    "#Desta forma, criou-se uma estrutura de decisão onde:\n",
    "    #Se o valor de componentes conexos detectados for acima de 100, \n",
    "    #executa-se uma nova binarização por meio do método THRESH_BINARY"
   ]
  },
  {
   "cell_type": "code",
   "execution_count": 9,
   "metadata": {},
   "outputs": [],
   "source": [
    "#Análise dos componentes conexos, por meio de vizinhança de 8 pixels - 8-Conexo\n",
    "(numCCs, imgLabels, stats, centroids) = cv2.connectedComponentsWithStats(img_bin, connectivity=8)"
   ]
  },
  {
   "cell_type": "code",
   "execution_count": 10,
   "metadata": {},
   "outputs": [],
   "source": [
    "#Binarização de uma Imagem Grayscale por meio da Função THRESH_BINARY\n",
    "#T: Threshold (Número Inteiro entre: 0 a 255) = Valor escolhido para esta aplicação foi: 215\n",
    "\n",
    "\n",
    "if numCCs > 100:\n",
    "    T = 215\n",
    "    T ,img_bin = cv2.threshold(img_gray, T, 255, cv2.THRESH_BINARY)\n",
    "    \n",
    "    cv2.imshow('Imagem Binaria', img_bin)\n",
    "    cv2.waitKey(0);"
   ]
  },
  {
   "cell_type": "code",
   "execution_count": 11,
   "metadata": {},
   "outputs": [],
   "source": [
    "#Análise dos componentes conexos, por meio de vizinhança de 8 pixels - 8-Conexo\n",
    "(numCCs, imgLabels, stats, centroids) = cv2.connectedComponentsWithStats(img_bin, connectivity=8)"
   ]
  },
  {
   "cell_type": "code",
   "execution_count": 12,
   "metadata": {},
   "outputs": [
    {
     "name": "stdout",
     "output_type": "stream",
     "text": [
      "20\n"
     ]
    },
    {
     "data": {
      "image/png": "[encoded data removed]",
      "text/plain": [
       "<Figure size 432x288 with 1 Axes>"
      ]
     },
     "metadata": {
      "needs_background": "light"
     },
     "output_type": "display_data"
    }
   ],
   "source": [
    "#Plot da imagem + Número de Componentes Conexos\n",
    "#O Total de componentes conexos é exibido subtraindo o valor 1, pois a própria imagem conta como um componente.\n",
    "\n",
    "plot.imshow(imgLabels, cmap='tab20c');\n",
    "print(numCCs-1)"
   ]
  },
  {
   "cell_type": "code",
   "execution_count": 13,
   "metadata": {},
   "outputs": [
    {
     "name": "stdout",
     "output_type": "stream",
     "text": [
      "[[546.70526601 410.76450308]\n",
      " [544.87225042 144.05583756]\n",
      " [456.38225539 234.32006633]\n",
      " [660.1849711  208.56358382]\n",
      " [531.0123839  234.12693498]\n",
      " [670.62797075 262.45429616]\n",
      " [532.87901701 281.87523629]\n",
      " [608.84823848 292.6395664 ]\n",
      " [407.55142084 357.81529093]\n",
      " [327.20844327 325.7994723 ]\n",
      " [565.69230769 329.63925729]\n",
      " [649.66159355 367.30528201]\n",
      " [500.5624469  398.06542056]\n",
      " [786.76900585 395.57894737]\n",
      " [362.18421053 439.91315789]\n",
      " [511.88121547 441.44475138]\n",
      " [473.68611111 481.75833333]\n",
      " [666.02212389 498.85663717]\n",
      " [573.50499546 507.2479564 ]\n",
      " [428.2120383  563.84883721]\n",
      " [564.50649351 550.41233766]]\n"
     ]
    }
   ],
   "source": [
    "#Exibição do vetor com os valores do centro de Cada Componente Conexo.\n",
    "#O Primeiro registro representa a imagem inteira, e não somente os componentes conexos detectados.\n",
    "\n",
    "print(centroids)"
   ]
  },
  {
   "cell_type": "code",
   "execution_count": 14,
   "metadata": {},
   "outputs": [
    {
     "name": "stdout",
     "output_type": "stream",
     "text": [
      "A área do componente 0 é igual a: 882623\n",
      "A área do componente 1 é igual a: 1182\n",
      "A área do componente 2 é igual a: 1206\n",
      "A área do componente 3 é igual a: 346\n",
      "A área do componente 4 é igual a: 323\n",
      "A área do componente 5 é igual a: 1094\n",
      "A área do componente 6 é igual a: 1058\n",
      "A área do componente 7 é igual a: 369\n",
      "A área do componente 8 é igual a: 1478\n",
      "A área do componente 9 é igual a: 379\n",
      "A área do componente 10 é igual a: 377\n",
      "A área do componente 11 é igual a: 1117\n",
      "A área do componente 12 é igual a: 1177\n",
      "A área do componente 13 é igual a: 342\n",
      "A área do componente 14 é igual a: 380\n",
      "A área do componente 15 é igual a: 362\n",
      "A área do componente 16 é igual a: 360\n",
      "A área do componente 17 é igual a: 1130\n",
      "A área do componente 18 é igual a: 1101\n",
      "A área do componente 19 é igual a: 1462\n",
      "A área do componente 20 é igual a: 308\n"
     ]
    }
   ],
   "source": [
    "#Exibição da área de cada componente conexo detectado. \n",
    "\n",
    "for i in range (numCCs):\n",
    "    print(\"A área do componente \" + str(i) + \" é igual a: \" + str(stats[i,cv2.CC_STAT_AREA]))"
   ]
  },
  {
   "cell_type": "code",
   "execution_count": 15,
   "metadata": {},
   "outputs": [],
   "source": [
    "#Inicia-se as variáveis Parafusos e Porcas para contagem no laço abaixo\n",
    "parafusos = 0\n",
    "porcas = 0"
   ]
  },
  {
   "cell_type": "code",
   "execution_count": 16,
   "metadata": {},
   "outputs": [],
   "source": [
    "#Executa-se um Laço de repetição indo de 0 ao número de componentes conexos detectados, onde:\n",
    "    #Quando a área for maior que 850 e menor que 3500, o objeto será classificado como Parafuso\n",
    "    #Quando a área for maior que 255 e menor que 850, o objeto será classificado como Porca\n",
    "    \n",
    "#Após a classificação, executa-se uma contagem de itens e uma exibição de mensagem informando a área do componente.\n",
    "\n",
    "for i in range (numCCs):\n",
    "    if stats[i,cv2.CC_STAT_AREA] > 850 and stats[i,cv2.CC_STAT_AREA] < 3500:\n",
    "        parafusos = parafusos + 1\n",
    "    if stats[i,cv2.CC_STAT_AREA] > 255 and stats[i,cv2.CC_STAT_AREA] < 850:\n",
    "        porcas = porcas + 1"
   ]
  },
  {
   "cell_type": "code",
   "execution_count": 17,
   "metadata": {},
   "outputs": [
    {
     "name": "stdout",
     "output_type": "stream",
     "text": [
      "Total de Parafusos: 10\n",
      "Total de Porcas: 10\n"
     ]
    }
   ],
   "source": [
    "#Exibição do total de parafusos e porcas\n",
    "print(\"Total de Parafusos: \" + str(parafusos))\n",
    "print(\"Total de Porcas: \" + str(porcas))"
   ]
  },
  {
   "cell_type": "code",
   "execution_count": 18,
   "metadata": {},
   "outputs": [
    {
     "name": "stdout",
     "output_type": "stream",
     "text": [
      "Conjunto Aprovado!\n"
     ]
    }
   ],
   "source": [
    "#Validação Final\n",
    "\n",
    "#Falta de Parafusos e/ou Porcas\n",
    "# 10 Parafusos e 10 Porcas = Conjunto Aprovado!\n",
    "# < 10 Parafusos e 10 Porcas = Conjunto Reprovado, Restam n Parafusos\n",
    "# 10 Parafusos e < 10 Porcas = Conjunto Reprovado, Restam n Porcas\n",
    "# < 10 Parafusos e < 10 Porcas = Conjunto Reprovado, Restam n Parafusos e n Porcas\n",
    "\n",
    "if parafusos == 10 and porcas == 10:\n",
    "    print(\"Conjunto Aprovado!\")\n",
    "    \n",
    "if parafusos < 10 and porcas == 10:\n",
    "    print(\"Conjunto Reprovado! Falta(m): \" + str((10 - parafusos)) + \" Parafuso(s)\")\n",
    "    \n",
    "if parafusos == 10 and porcas < 10:\n",
    "    print(\"Conjunto Reprovado! Falta(m): \" + str((10 - porcas)) + \" Porca(s)\")\n",
    "    \n",
    "if parafusos < 10 and porcas < 10:\n",
    "    print(\"Conjunto Reprovado! Falta(m): \" + str((10 - parafusos)) + \" Parafuso(s) e \" + str((10 - porcas)) + \" Porca(s)\")"
   ]
  },
  {
   "cell_type": "markdown",
   "metadata": {},
   "source": [
    "<b> Gabarito - Quantidade de Parafusos e Porcas em cada imagem </b>\n",
    "\n",
    "- <b> Imagem 01: </b> 10 Parafusos e 10 Porcas\n",
    "- <b> Imagem 02: </b> 10 Parafusos e 10 Porcas\n",
    "- <b> Imagem 03: </b> 10 Parafusos e 10 Porcas\n",
    "- <b> Imagem 04: </b> 05 Parafusos e 10 Porcas\n",
    "- <b> Imagem 05: </b> 09 Parafusos e 09 Porcas\n",
    "- <b> Imagem 06: </b> 10 Parafusos e 10 Porcas\n",
    "- <b> Imagem 07: </b> 07 Parafusos e 10 Porcas\n",
    "- <b> Imagem 08: </b> 07 Parafusos e 10 Porcas\n",
    "- <b> Imagem 09: </b> 10 Parafusos e 10 Porcas\n",
    "- <b> Imagem 10: </b> 10 Parafusos e 09 Porcas\n",
    "- <b> Imagem 11: </b> 10 Parafusos e 00 Porcas\n",
    "- <b> Imagem 12: </b> 10 Parafusos e 10 Porcas\n",
    "- <b> Imagem 13: </b> 10 Parafusos e 09 Porcas\n",
    "- <b> Imagem 14: </b> 10 Parafusos e 10 Porcas\n",
    "- <b> Imagem 15: </b> 09 Parafusos e 10 Porcas\n",
    "- <b> Imagem 16: </b> 00 Parafusos e 10 Porcas\n",
    "- <b> Imagem 17: </b> 07 Parafusos e 07 Porcas\n",
    "- <b> Imagem 18: </b> 10 Parafusos e 10 Porcas\n",
    "- <b> Imagem 19: </b> 07 Parafusos e 09 Porcas\n",
    "- <b> Imagem 20: </b> 10 Parafusos e 10 Porcas"
   ]
  },
  {
   "cell_type": "markdown",
   "metadata": {},
   "source": [
    "<b> Anotações: </b> Valores de Threshold obtidos pelo método OTSU de cada imagem.  <br>\n",
    "<b> Observação: </b> Os valores considerados insatisfatórios estão destacados em <b> negrito </b>.\n",
    "\n",
    "- Img01: 163.0\n",
    "- Img02: 184.0\n",
    "- Img03: 160.0\n",
    "- <b> Img04: 142.0 </b>\n",
    "- <b> Img05: 154.0 </b>\n",
    "- Img06: 177.0\n",
    "- Img07: 185.0\n",
    "- <b> Img08: 136.0 </b>\n",
    "- Img09: 167.0\n",
    "- Img10: 180.0\n",
    "- Img11: 142.0\n",
    "- Img12: 168.0\n",
    "- <b> Img13: 144.0 </b>\n",
    "- Img14: 165.0\n",
    "- <b> Img15: 138.0 </b>\n",
    "- <b> Img16: 146.0 </b>\n",
    "- <b> Img17: 143.0 </b>\n",
    "- <b> Img18: 139.0 </b>\n",
    "- <b> Img19: 143.0 </b>\n",
    "- Img20: 164.0"
   ]
  }
 ],
 "metadata": {
  "kernelspec": {
   "display_name": "Python 3",
   "language": "python",
   "name": "python3"
  },
  "language_info": {
   "codemirror_mode": {
    "name": "ipython",
    "version": 3
   },
   "file_extension": ".py",
   "mimetype": "text/x-python",
   "name": "python",
   "nbconvert_exporter": "python",
   "pygments_lexer": "ipython3",
   "version": "3.8.5"
  }
 },
 "nbformat": 4,
 "nbformat_minor": 4
}
