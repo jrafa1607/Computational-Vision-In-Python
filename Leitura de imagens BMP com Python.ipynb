{
 "cells": [
  {
   "cell_type": "markdown",
   "metadata": {
    "id": "cbLNX8ZCGfTF"
   },
   "source": [
    "# **Visão Computacional:** Um pouco de imagens BMPs com Python\n",
    "\n",
    "Este _notebook_ tem o objetivo de transmitir alguns conceitos básicos acerca de imagens BMP's utilizando a linguagem de programação Python. Desta forma, ao longo deste _notebook_, estará disponível explicações a respeito do comportamento de funções e determinados blocos de código. \n",
    "\n"
   ]
  },
  {
   "cell_type": "markdown",
   "metadata": {
    "id": "-Ew_CE22De3t"
   },
   "source": [
    "## **Preparando o ambiente**\n",
    "\n",
    "Antes de iniciar executando qualquer dos blocos de código abaixo, é interessante o preparo do ambiente onde será extraído as imagens exemplos. Certifique-se de que possui uma pasta com imagens BMPs que deseja analisar em seu _Google Drive_.\n",
    "\n",
    "Certo disto, execute o código abaixo, acesse o link e insera o código para que o _Colab_ tenha acesso ao seu _Drive_. Uma vez carregada as pastas ao lado, copie o _caminho do diretório_ quando solicitado."
   ]
  },
  {
   "cell_type": "code",
   "execution_count": null,
   "metadata": {
    "colab": {
     "base_uri": "https://localhost:8080/"
    },
    "executionInfo": {
     "elapsed": 44885,
     "status": "ok",
     "timestamp": 1632856869563,
     "user": {
      "displayName": "GUILHERME BUENO MARTINS",
      "photoUrl": "https://lh3.googleusercontent.com/a/default-user=s64",
      "userId": "10704002773123979615"
     },
     "user_tz": 180
    },
    "id": "E-Yxsl8qEtca",
    "outputId": "1bc494ab-b8d8-4a60-9a48-9240870afb19"
   },
   "outputs": [
    {
     "name": "stdout",
     "output_type": "stream",
     "text": [
      "Mounted at /content/drive/\n",
      "Insira o caminho da pasta onde estão as imagens: /content/drive/MyDrive/Colab Notebooks/Visão Computacional/imagens\n"
     ]
    }
   ],
   "source": [
    "from google.colab import drive\n",
    "drive.mount('/content/drive/')\n",
    "pasta = input('Insira o caminho da pasta onde estão as imagens: ')"
   ]
  },
  {
   "cell_type": "markdown",
   "metadata": {
    "id": "vIry3xTa8xXl"
   },
   "source": [
    "## **Classes de leitura**\n",
    "\n",
    "As imagens BMP podem ser dividas em quatro partes:\n",
    " + Cabeçalho do arquivo;\n",
    " + Cabeçalho mapa de bits / DIB (_Device independent bitmaps_);\n",
    " + Paleta de cores; e\n",
    " + Dados da imagens.\n",
    "\n",
    "As classes definidas abaixo estão a representar, respectivamente: o _cabeçalho do arquivo_; o _cabeçalho mapa de bits_; e a _paleta de cores_. E, detalham-se estas:\n",
    "\n",
    "|Linha | Tamanho | Nome | Classe | Campos |\n",
    "|------|---------|------|--------|--------|\n",
    "| 0 | 2 bytes | Cabeçalho do arquivo | `Cab` | Tipo |\n",
    "| 1 | 4 bytes | Cabeçalho do arquivo | `Cab1` | Tamanho da imagem |\n",
    "| 2 | 2 bytes | Cabeçalho do arquivo | `Cab1` | Reservado 1 |\n",
    "| 3 | 2 bytes | Cabeçalho do arquivo | `Cab1` | Reservado 2 |\n",
    "| 4 | 4 bytes | Cabeçalho do arquivo | `Cab1` | Início dos dados da imagem |\n",
    "| 5 | 4 bytes | Cabeçalho mapa de bits | `Cab2` | Tamanho do cabeçalho da imagem |\n",
    "| 6 | 4 bytes | Cabeçalho mapa de bits | `Cab2` | Altura |\n",
    "| 7 | 4 bytes | Cabeçalho mapa de bits | `Cab2` | Largura |\n",
    "| 8 | 2 bytes | Cabeçalho mapa de bits | `Cab2` | Planos |\n",
    "| 9 | 2 bytes | Cabeçalho mapa de bits | `Cab2` | Bits por ponto |\n",
    "| 10 | 4 bytes | Cabeçalho mapa de bits | `Cab2` | Tipo de compressão |\n",
    "| 11 | 4 bytes | Cabeçalho mapa de bits | `Cab2` | Tamanho da imagem comprimida |\n",
    "| 12 | 4 bytes | Cabeçalho mapa de bits | `Cab2` | Resolução horizontal |\n",
    "| 13 | 4 bytes | Cabeçalho mapa de bits | `Cab2` | Resolução vertical |\n",
    "| 14 | 4 bytes | Cabeçalho mapa de bits |`Cab2` | Nº máximo de cores |\n",
    "| 15 | 4 bytes | Cabeçalho mapa de bits | `Cab2` | Nº cores usadas |\n",
    "| 16 | 1 byte | Paleta de cores | `Cab3` | Red |\n",
    "| 17 | 1 byte | Paleta de cores | `Cab3` | Green |\n",
    "| 18 | 1 byte | Paleta de cores | `Cab3` | Blue |\n",
    "| 19 | 1 byte | Paleta de cores | `Cab3` | Reservado |\n",
    "\n"
   ]
  },
  {
   "cell_type": "code",
   "execution_count": null,
   "metadata": {
    "id": "w9ldPxWF8x11"
   },
   "outputs": [],
   "source": [
    "import struct\n",
    "\n",
    "class Cab():\n",
    "  def __init__(self, bmp):\n",
    "    self.tipo = bmp.read(2).decode()\n",
    "\n",
    "\n",
    "class Cab1():\n",
    "  def __init__(self, bmp):\n",
    "    self.tamanho_imagem = struct.unpack('I', bmp.read(4))[0]\n",
    "    self.reservado_1 = struct.unpack('H', bmp.read(2))[0]\n",
    "    self.reservado_2 = struct.unpack('H', bmp.read(2))[0]\n",
    "    self.inicio_dados_imagem = struct.unpack('I', bmp.read(4))[0]\n",
    "\n",
    "\n",
    "class Cab2():\n",
    "  def __init__(self, bmp):\n",
    "    self.tamanho_do_cabecalho_da_imagem = struct.unpack('I', bmp.read(4))[0]\n",
    "    self.largura = struct.unpack('I', bmp.read(4))[0]\n",
    "    self.altura = struct.unpack('I', bmp.read(4))[0]\n",
    "    self.planos = struct.unpack('H', bmp.read(2))[0]\n",
    "    self.bits_por_ponto = struct.unpack('H', bmp.read(2))[0]\n",
    "    self.tipo_de_compressao = struct.unpack('I', bmp.read(4))[0]\n",
    "    self.tamanho_da_imagem_comprimida = struct.unpack('I', bmp.read(4))[0]\n",
    "    self.resolucao_horizontal = struct.unpack('I', bmp.read(4))[0]\n",
    "    self.resolucao_vertical = struct.unpack('I', bmp.read(4))[0]\n",
    "    self.numero_maximo_de_cores = struct.unpack('I', bmp.read(4))[0]\n",
    "    self.numero_de_cores_usadas = struct.unpack('I', bmp.read(4))[0]\n",
    "\n",
    "class Cab3():\n",
    "  def __init__(self, bmp):\n",
    "    self.red = struct.unpack('B', bmp.read(1))[0]\n",
    "    self.green = struct.unpack('B', bmp.read(1))[0]\n",
    "    self.blue = struct.unpack('B', bmp.read(1))[0]\n",
    "    self.reserv = struct.unpack('B', bmp.read(1))[0]\n",
    "\n"
   ]
  },
  {
   "cell_type": "markdown",
   "metadata": {
    "id": "Ka0U7xGvGgqE"
   },
   "source": [
    "## **Funções e manipulação de arquivo**\n",
    "\n",
    "Para uma melhor organização e entendimento do código, foi criados métodos que atendem-se ao propósito de fazer interface na obtenção da imagem exemplo e verificação desta como um preventivo tratamento de erro. Assim, compreende:\n",
    "\n",
    " + `get_nome_arq()`: solicita o nome de imagem BMP ao usuário com a extensão;\n",
    " + `abrir_imagem(nome_arq)`: abre imagem pelo nome do arquivo a partir da pasta referência;\n",
    " + `e_bmp(imagem)`: verifica se imagem encontrada é do tipo BMP pela assinatura _\"BM\"_;\n",
    " + `selecionar_imagem()`: orquestra as funções acima solicitando, se necessário, um arquivo de imagem aceitável."
   ]
  },
  {
   "cell_type": "code",
   "execution_count": null,
   "metadata": {
    "id": "v4sU_nz9Kg5A"
   },
   "outputs": [],
   "source": [
    "def get_nome_arq():\n",
    "  return input('Insira o nome da imagem BMP: ') \n",
    "\n",
    "\n",
    "def abrir_imagem(nome_arq):\n",
    "  return open(pasta + '/' + nome_arq, 'rb')\n",
    "\n",
    "\n",
    "def e_bmp(imagem):\n",
    "  return imagem.read(2) == b'BM'\n",
    "\n",
    "\n",
    "def selecionar_imagem():\n",
    "  nome_arq = get_nome_arq()\n",
    "  imagem = abrir_imagem(nome_arq)\n",
    "  while not e_bmp(imagem):\n",
    "    print('Está imagem não é BMP.')\n",
    "    nome_arq = get_nome_arq()\n",
    "    imagem = abrir_imagem(nome_arq)\n",
    "  print('Imagem verificada e aceita!')\n",
    "  return abrir_imagem(nome_arq)\n"
   ]
  },
  {
   "cell_type": "markdown",
   "metadata": {
    "id": "snUJVtlx7YuE"
   },
   "source": [
    "Nesta célula ocorre a execução das funções e instanciações das classes já declaradas. Porém, a leitura da imagem é feita em _buffering_ (em memória), o que restringe a ordem de leitura dos dados depois de extraídos. A inversão da instanciação das classes implicará em erro, pois acarretará na inversão de uma das partes da leitura da imagem."
   ]
  },
  {
   "cell_type": "code",
   "execution_count": null,
   "metadata": {
    "colab": {
     "base_uri": "https://localhost:8080/"
    },
    "executionInfo": {
     "elapsed": 15760,
     "status": "ok",
     "timestamp": 1632857449700,
     "user": {
      "displayName": "GUILHERME BUENO MARTINS",
      "photoUrl": "https://lh3.googleusercontent.com/a/default-user=s64",
      "userId": "10704002773123979615"
     },
     "user_tz": 180
    },
    "id": "pZ5v13B-4ZAS",
    "outputId": "c58f2f42-8c28-436e-ed0c-5e29b2fbb926"
   },
   "outputs": [
    {
     "name": "stdout",
     "output_type": "stream",
     "text": [
      "Insira o nome da imagem BMP: monochromatic_lenna.bmp\n",
      "Imagem verificada e aceita!\n"
     ]
    }
   ],
   "source": [
    "imagem = selecionar_imagem()\n",
    "assinatura = Cab(imagem)\n",
    "cab_arq = Cab1(imagem)\n",
    "cab_mapa_bits = Cab2(imagem)"
   ]
  },
  {
   "cell_type": "markdown",
   "metadata": {
    "id": "zd2IwfR65nl-"
   },
   "source": [
    "Para visualizar os dados obtidos com a execução da célula acima, basta dar _play_ na célula abaixo."
   ]
  },
  {
   "cell_type": "code",
   "execution_count": null,
   "metadata": {
    "colab": {
     "base_uri": "https://localhost:8080/"
    },
    "executionInfo": {
     "elapsed": 225,
     "status": "ok",
     "timestamp": 1632857507917,
     "user": {
      "displayName": "GUILHERME BUENO MARTINS",
      "photoUrl": "https://lh3.googleusercontent.com/a/default-user=s64",
      "userId": "10704002773123979615"
     },
     "user_tz": 180
    },
    "id": "5IbCXNshHBrA",
    "outputId": "f96f4f03-876f-4ee9-ef56-9ec54fd56159"
   },
   "outputs": [
    {
     "name": "stdout",
     "output_type": "stream",
     "text": [
      "Tipo\t\t:BM\n",
      "Tamanho arquivo\t: 32830\n",
      "Reservado 1\t: 0\n",
      "Reservado 2\t: 0\n",
      "Início Dados\t: 62\n",
      "\n",
      "Cabeçalho de mapa de bits\n",
      "Tamanho cabeçalho\t: 40\n",
      "Largura da Imagem\t: 512\n",
      "Altura da Imagem\t: 512\n",
      "Nº de Planos\t\t: 1\n",
      "Bits por Pixel\t\t: 1\n",
      "Compressão Usada\t: 0\n",
      "Tamanho Img(dados)\t: 32768\n",
      "Resolução Horiz.\t: 3780\n",
      "Resolução Vertical\t: 3780\n",
      "Nº Cores Usadas\t\t: 0\n",
      "Nº Cores Importantes\t: 0\n"
     ]
    }
   ],
   "source": [
    "print('Tipo\\t\\t:{}'.format(assinatura.tipo))\n",
    "\n",
    "print('Tamanho arquivo\\t: {}'.format(cab_arq.tamanho_imagem))\n",
    "print('Reservado 1\\t: {}'.format(cab_arq.reservado_1))\n",
    "print('Reservado 2\\t: {}'.format(cab_arq.reservado_2))\n",
    "print('Início Dados\\t: {}'.format(cab_arq.inicio_dados_imagem))\n",
    "\n",
    "print('\\nCabeçalho de mapa de bits')\n",
    "print('Tamanho cabeçalho\\t: {}'.format(cab_mapa_bits.tamanho_do_cabecalho_da_imagem))\n",
    "print('Largura da Imagem\\t: {}'.format(cab_mapa_bits.largura))\n",
    "print('Altura da Imagem\\t: {}'.format(cab_mapa_bits.altura))\n",
    "print('Nº de Planos\\t\\t: {}'.format(cab_mapa_bits.planos))\n",
    "print('Bits por Pixel\\t\\t: {}'.format(cab_mapa_bits.bits_por_ponto))\n",
    "print('Compressão Usada\\t: {}'.format(cab_mapa_bits.tipo_de_compressao))\n",
    "print('Tamanho Img(dados)\\t: {}'.format(cab_mapa_bits.tamanho_da_imagem_comprimida))\n",
    "print('Resolução Horiz.\\t: {}'.format(cab_mapa_bits.resolucao_horizontal))\n",
    "print('Resolução Vertical\\t: {}'.format(cab_mapa_bits.resolucao_vertical))\n",
    "print('Nº Cores Usadas\\t\\t: {}'.format(cab_mapa_bits.numero_maximo_de_cores))\n",
    "print('Nº Cores Importantes\\t: {}'.format(cab_mapa_bits.numero_maximo_de_cores))\n"
   ]
  },
  {
   "cell_type": "markdown",
   "metadata": {
    "id": "LNQ3fGttsAcl"
   },
   "source": [
    "## **Interpretando a paleta de cores**\n",
    "\n",
    "Uma vez obtido os valores do _cabeçalho mapa de bits_, é feita a contagem de _bytes_ para a leitura da tabela de cores e exibição. Sabe-se que a paleta de cores RGB é dada por 4 colunas que são respectivamente as cores: vermelho (_Red_), verde (_Green_) e azul (_Blue_)."
   ]
  },
  {
   "cell_type": "code",
   "execution_count": null,
   "metadata": {
    "colab": {
     "base_uri": "https://localhost:8080/"
    },
    "executionInfo": {
     "elapsed": 241,
     "status": "ok",
     "timestamp": 1632705089473,
     "user": {
      "displayName": "GUILHERME BUENO MARTINS",
      "photoUrl": "https://lh3.googleusercontent.com/a/default-user=s64",
      "userId": "10704002773123979615"
     },
     "user_tz": 180
    },
    "id": "BkyXjTbM5egN",
    "outputId": "473c1303-297f-41b3-cd47-f068937d4846"
   },
   "outputs": [
    {
     "name": "stdout",
     "output_type": "stream",
     "text": [
      "Paleta de Cores\n",
      "Cor 0: 0\t 0\t 0\t 0\n",
      "Cor 1: 0\t 0\t 128\t 0\n",
      "Cor 2: 0\t 128\t 0\t 0\n",
      "Cor 3: 0\t 128\t 128\t 0\n",
      "Cor 4: 128\t 0\t 0\t 0\n",
      "Cor 5: 128\t 0\t 128\t 0\n",
      "Cor 6: 128\t 128\t 0\t 0\n",
      "Cor 7: 192\t 192\t 192\t 0\n",
      "Cor 8: 192\t 220\t 192\t 0\n",
      "Cor 9: 240\t 202\t 166\t 0\n",
      "Cor 10: 0\t 32\t 64\t 0\n",
      "Cor 11: 0\t 32\t 96\t 0\n",
      "Cor 12: 0\t 32\t 128\t 0\n",
      "Cor 13: 0\t 32\t 160\t 0\n",
      "Cor 14: 0\t 32\t 192\t 0\n",
      "Cor 15: 0\t 32\t 224\t 0\n",
      "Cor 16: 0\t 64\t 0\t 0\n",
      "Cor 17: 0\t 64\t 32\t 0\n",
      "Cor 18: 0\t 64\t 64\t 0\n",
      "Cor 19: 0\t 64\t 96\t 0\n",
      "Cor 20: 0\t 64\t 128\t 0\n",
      "Cor 21: 0\t 64\t 160\t 0\n",
      "Cor 22: 0\t 64\t 192\t 0\n",
      "Cor 23: 0\t 64\t 224\t 0\n",
      "Cor 24: 0\t 96\t 0\t 0\n",
      "Cor 25: 0\t 96\t 32\t 0\n",
      "Cor 26: 0\t 96\t 64\t 0\n",
      "Cor 27: 0\t 96\t 96\t 0\n",
      "Cor 28: 0\t 96\t 128\t 0\n",
      "Cor 29: 0\t 96\t 160\t 0\n",
      "Cor 30: 0\t 96\t 192\t 0\n",
      "Cor 31: 0\t 96\t 224\t 0\n",
      "Cor 32: 0\t 128\t 0\t 0\n",
      "Cor 33: 0\t 128\t 32\t 0\n",
      "Cor 34: 0\t 128\t 64\t 0\n",
      "Cor 35: 0\t 128\t 96\t 0\n",
      "Cor 36: 0\t 128\t 128\t 0\n",
      "Cor 37: 0\t 128\t 160\t 0\n",
      "Cor 38: 0\t 128\t 192\t 0\n",
      "Cor 39: 0\t 128\t 224\t 0\n",
      "Cor 40: 0\t 160\t 0\t 0\n",
      "Cor 41: 0\t 160\t 32\t 0\n",
      "Cor 42: 0\t 160\t 64\t 0\n",
      "Cor 43: 0\t 160\t 96\t 0\n",
      "Cor 44: 0\t 160\t 128\t 0\n",
      "Cor 45: 0\t 160\t 160\t 0\n",
      "Cor 46: 0\t 160\t 192\t 0\n",
      "Cor 47: 0\t 160\t 224\t 0\n",
      "Cor 48: 0\t 192\t 0\t 0\n",
      "Cor 49: 0\t 192\t 32\t 0\n",
      "Cor 50: 0\t 192\t 64\t 0\n",
      "Cor 51: 0\t 192\t 96\t 0\n",
      "Cor 52: 0\t 192\t 128\t 0\n",
      "Cor 53: 0\t 192\t 160\t 0\n",
      "Cor 54: 0\t 192\t 192\t 0\n",
      "Cor 55: 0\t 192\t 224\t 0\n",
      "Cor 56: 0\t 224\t 0\t 0\n",
      "Cor 57: 0\t 224\t 32\t 0\n",
      "Cor 58: 0\t 224\t 64\t 0\n",
      "Cor 59: 0\t 224\t 96\t 0\n",
      "Cor 60: 0\t 224\t 128\t 0\n",
      "Cor 61: 0\t 224\t 160\t 0\n",
      "Cor 62: 0\t 224\t 192\t 0\n",
      "Cor 63: 0\t 224\t 224\t 0\n",
      "Cor 64: 64\t 0\t 0\t 0\n",
      "Cor 65: 64\t 0\t 32\t 0\n",
      "Cor 66: 64\t 0\t 64\t 0\n",
      "Cor 67: 64\t 0\t 96\t 0\n",
      "Cor 68: 64\t 0\t 128\t 0\n",
      "Cor 69: 64\t 0\t 160\t 0\n",
      "Cor 70: 64\t 0\t 192\t 0\n",
      "Cor 71: 64\t 0\t 224\t 0\n",
      "Cor 72: 64\t 32\t 0\t 0\n",
      "Cor 73: 64\t 32\t 32\t 0\n",
      "Cor 74: 64\t 32\t 64\t 0\n",
      "Cor 75: 64\t 32\t 96\t 0\n",
      "Cor 76: 64\t 32\t 128\t 0\n",
      "Cor 77: 64\t 32\t 160\t 0\n",
      "Cor 78: 64\t 32\t 192\t 0\n",
      "Cor 79: 64\t 32\t 224\t 0\n",
      "Cor 80: 64\t 64\t 0\t 0\n",
      "Cor 81: 64\t 64\t 32\t 0\n",
      "Cor 82: 64\t 64\t 64\t 0\n",
      "Cor 83: 64\t 64\t 96\t 0\n",
      "Cor 84: 64\t 64\t 128\t 0\n",
      "Cor 85: 64\t 64\t 160\t 0\n",
      "Cor 86: 64\t 64\t 192\t 0\n",
      "Cor 87: 64\t 64\t 224\t 0\n",
      "Cor 88: 64\t 96\t 0\t 0\n",
      "Cor 89: 64\t 96\t 32\t 0\n",
      "Cor 90: 64\t 96\t 64\t 0\n",
      "Cor 91: 64\t 96\t 96\t 0\n",
      "Cor 92: 64\t 96\t 128\t 0\n",
      "Cor 93: 64\t 96\t 160\t 0\n",
      "Cor 94: 64\t 96\t 192\t 0\n",
      "Cor 95: 64\t 96\t 224\t 0\n",
      "Cor 96: 64\t 128\t 0\t 0\n",
      "Cor 97: 64\t 128\t 32\t 0\n",
      "Cor 98: 64\t 128\t 64\t 0\n",
      "Cor 99: 64\t 128\t 96\t 0\n",
      "Cor 100: 64\t 128\t 128\t 0\n",
      "Cor 101: 64\t 128\t 160\t 0\n",
      "Cor 102: 64\t 128\t 192\t 0\n",
      "Cor 103: 64\t 128\t 224\t 0\n",
      "Cor 104: 64\t 160\t 0\t 0\n",
      "Cor 105: 64\t 160\t 32\t 0\n",
      "Cor 106: 64\t 160\t 64\t 0\n",
      "Cor 107: 64\t 160\t 96\t 0\n",
      "Cor 108: 64\t 160\t 128\t 0\n",
      "Cor 109: 64\t 160\t 160\t 0\n",
      "Cor 110: 64\t 160\t 192\t 0\n",
      "Cor 111: 64\t 160\t 224\t 0\n",
      "Cor 112: 64\t 192\t 0\t 0\n",
      "Cor 113: 64\t 192\t 32\t 0\n",
      "Cor 114: 64\t 192\t 64\t 0\n",
      "Cor 115: 64\t 192\t 96\t 0\n",
      "Cor 116: 64\t 192\t 128\t 0\n",
      "Cor 117: 64\t 192\t 160\t 0\n",
      "Cor 118: 64\t 192\t 192\t 0\n",
      "Cor 119: 64\t 192\t 224\t 0\n",
      "Cor 120: 64\t 224\t 0\t 0\n",
      "Cor 121: 64\t 224\t 32\t 0\n",
      "Cor 122: 64\t 224\t 64\t 0\n",
      "Cor 123: 64\t 224\t 96\t 0\n",
      "Cor 124: 64\t 224\t 128\t 0\n",
      "Cor 125: 64\t 224\t 160\t 0\n",
      "Cor 126: 64\t 224\t 192\t 0\n",
      "Cor 127: 64\t 224\t 224\t 0\n",
      "Cor 128: 128\t 0\t 0\t 0\n",
      "Cor 129: 128\t 0\t 32\t 0\n",
      "Cor 130: 128\t 0\t 64\t 0\n",
      "Cor 131: 128\t 0\t 96\t 0\n",
      "Cor 132: 128\t 0\t 128\t 0\n",
      "Cor 133: 128\t 0\t 160\t 0\n",
      "Cor 134: 128\t 0\t 192\t 0\n",
      "Cor 135: 128\t 0\t 224\t 0\n",
      "Cor 136: 128\t 32\t 0\t 0\n",
      "Cor 137: 128\t 32\t 32\t 0\n",
      "Cor 138: 128\t 32\t 64\t 0\n",
      "Cor 139: 128\t 32\t 96\t 0\n",
      "Cor 140: 128\t 32\t 128\t 0\n",
      "Cor 141: 128\t 32\t 160\t 0\n",
      "Cor 142: 128\t 32\t 192\t 0\n",
      "Cor 143: 128\t 32\t 224\t 0\n",
      "Cor 144: 128\t 64\t 0\t 0\n",
      "Cor 145: 128\t 64\t 32\t 0\n",
      "Cor 146: 128\t 64\t 64\t 0\n",
      "Cor 147: 128\t 64\t 96\t 0\n",
      "Cor 148: 128\t 64\t 128\t 0\n",
      "Cor 149: 128\t 64\t 160\t 0\n",
      "Cor 150: 128\t 64\t 192\t 0\n",
      "Cor 151: 128\t 64\t 224\t 0\n",
      "Cor 152: 128\t 96\t 0\t 0\n",
      "Cor 153: 128\t 96\t 32\t 0\n",
      "Cor 154: 128\t 96\t 64\t 0\n",
      "Cor 155: 128\t 96\t 96\t 0\n",
      "Cor 156: 128\t 96\t 128\t 0\n",
      "Cor 157: 128\t 96\t 160\t 0\n",
      "Cor 158: 128\t 96\t 192\t 0\n",
      "Cor 159: 128\t 96\t 224\t 0\n",
      "Cor 160: 128\t 128\t 0\t 0\n",
      "Cor 161: 128\t 128\t 32\t 0\n",
      "Cor 162: 128\t 128\t 64\t 0\n",
      "Cor 163: 128\t 128\t 96\t 0\n",
      "Cor 164: 128\t 128\t 128\t 0\n",
      "Cor 165: 128\t 128\t 160\t 0\n",
      "Cor 166: 128\t 128\t 192\t 0\n",
      "Cor 167: 128\t 128\t 224\t 0\n",
      "Cor 168: 128\t 160\t 0\t 0\n",
      "Cor 169: 128\t 160\t 32\t 0\n",
      "Cor 170: 128\t 160\t 64\t 0\n",
      "Cor 171: 128\t 160\t 96\t 0\n",
      "Cor 172: 128\t 160\t 128\t 0\n",
      "Cor 173: 128\t 160\t 160\t 0\n",
      "Cor 174: 128\t 160\t 192\t 0\n",
      "Cor 175: 128\t 160\t 224\t 0\n",
      "Cor 176: 128\t 192\t 0\t 0\n",
      "Cor 177: 128\t 192\t 32\t 0\n",
      "Cor 178: 128\t 192\t 64\t 0\n",
      "Cor 179: 128\t 192\t 96\t 0\n",
      "Cor 180: 128\t 192\t 128\t 0\n",
      "Cor 181: 128\t 192\t 160\t 0\n",
      "Cor 182: 128\t 192\t 192\t 0\n",
      "Cor 183: 128\t 192\t 224\t 0\n",
      "Cor 184: 128\t 224\t 0\t 0\n",
      "Cor 185: 128\t 224\t 32\t 0\n",
      "Cor 186: 128\t 224\t 64\t 0\n",
      "Cor 187: 128\t 224\t 96\t 0\n",
      "Cor 188: 128\t 224\t 128\t 0\n",
      "Cor 189: 128\t 224\t 160\t 0\n",
      "Cor 190: 128\t 224\t 192\t 0\n",
      "Cor 191: 128\t 224\t 224\t 0\n",
      "Cor 192: 192\t 0\t 0\t 0\n",
      "Cor 193: 192\t 0\t 32\t 0\n",
      "Cor 194: 192\t 0\t 64\t 0\n",
      "Cor 195: 192\t 0\t 96\t 0\n",
      "Cor 196: 192\t 0\t 128\t 0\n",
      "Cor 197: 192\t 0\t 160\t 0\n",
      "Cor 198: 192\t 0\t 192\t 0\n",
      "Cor 199: 192\t 0\t 224\t 0\n",
      "Cor 200: 192\t 32\t 0\t 0\n",
      "Cor 201: 192\t 32\t 32\t 0\n",
      "Cor 202: 192\t 32\t 64\t 0\n",
      "Cor 203: 192\t 32\t 96\t 0\n",
      "Cor 204: 192\t 32\t 128\t 0\n",
      "Cor 205: 192\t 32\t 160\t 0\n",
      "Cor 206: 192\t 32\t 192\t 0\n",
      "Cor 207: 192\t 32\t 224\t 0\n",
      "Cor 208: 192\t 64\t 0\t 0\n",
      "Cor 209: 192\t 64\t 32\t 0\n",
      "Cor 210: 192\t 64\t 64\t 0\n",
      "Cor 211: 192\t 64\t 96\t 0\n",
      "Cor 212: 192\t 64\t 128\t 0\n",
      "Cor 213: 192\t 64\t 160\t 0\n",
      "Cor 214: 192\t 64\t 192\t 0\n",
      "Cor 215: 192\t 64\t 224\t 0\n",
      "Cor 216: 192\t 96\t 0\t 0\n",
      "Cor 217: 192\t 96\t 32\t 0\n",
      "Cor 218: 192\t 96\t 64\t 0\n",
      "Cor 219: 192\t 96\t 96\t 0\n",
      "Cor 220: 192\t 96\t 128\t 0\n",
      "Cor 221: 192\t 96\t 160\t 0\n",
      "Cor 222: 192\t 96\t 192\t 0\n",
      "Cor 223: 192\t 96\t 224\t 0\n",
      "Cor 224: 192\t 128\t 0\t 0\n",
      "Cor 225: 192\t 128\t 32\t 0\n",
      "Cor 226: 192\t 128\t 64\t 0\n",
      "Cor 227: 192\t 128\t 96\t 0\n",
      "Cor 228: 192\t 128\t 128\t 0\n",
      "Cor 229: 192\t 128\t 160\t 0\n",
      "Cor 230: 192\t 128\t 192\t 0\n",
      "Cor 231: 192\t 128\t 224\t 0\n",
      "Cor 232: 192\t 160\t 0\t 0\n",
      "Cor 233: 192\t 160\t 32\t 0\n",
      "Cor 234: 192\t 160\t 64\t 0\n",
      "Cor 235: 192\t 160\t 96\t 0\n",
      "Cor 236: 192\t 160\t 128\t 0\n",
      "Cor 237: 192\t 160\t 160\t 0\n",
      "Cor 238: 192\t 160\t 192\t 0\n",
      "Cor 239: 192\t 160\t 224\t 0\n",
      "Cor 240: 192\t 192\t 0\t 0\n",
      "Cor 241: 192\t 192\t 32\t 0\n",
      "Cor 242: 192\t 192\t 64\t 0\n",
      "Cor 243: 192\t 192\t 96\t 0\n",
      "Cor 244: 192\t 192\t 128\t 0\n",
      "Cor 245: 192\t 192\t 160\t 0\n",
      "Cor 246: 240\t 251\t 255\t 0\n",
      "Cor 247: 164\t 160\t 160\t 0\n",
      "Cor 248: 128\t 128\t 128\t 0\n",
      "Cor 249: 0\t 0\t 255\t 0\n",
      "Cor 250: 0\t 255\t 0\t 0\n",
      "Cor 251: 0\t 255\t 255\t 0\n",
      "Cor 252: 255\t 0\t 0\t 0\n",
      "Cor 253: 255\t 0\t 255\t 0\n",
      "Cor 254: 255\t 255\t 0\t 0\n",
      "Cor 255: 255\t 255\t 255\t 0\n"
     ]
    }
   ],
   "source": [
    "qtd_cores = int(pow(2, cab_mapa_bits.bits_por_ponto))\n",
    "\n",
    "print('Paleta de Cores')\n",
    "if qtd_cores <= 256 and cab_arq.inicio_dados_imagem > 54:\n",
    "  for i in range(qtd_cores):\n",
    "    paleta = Cab3(imagem)\n",
    "    print('Cor {0}: {1}\\t {2}\\t {3}\\t {4}'.format(i, paleta.red, paleta.green, paleta.blue, paleta.reserv))\n"
   ]
  },
  {
   "cell_type": "markdown",
   "metadata": {
    "id": "qPwdxU3wvelr"
   },
   "source": [
    "## Visualizando a imagem\n",
    "\n",
    "Feitas as importações e restando apenas os _bytes_ que compõe os dados da imagem é possível a visualização da imagem executando o código da célula a seguir."
   ]
  },
  {
   "cell_type": "code",
   "execution_count": null,
   "metadata": {
    "colab": {
     "base_uri": "https://localhost:8080/",
     "height": 529
    },
    "executionInfo": {
     "elapsed": 278,
     "status": "ok",
     "timestamp": 1632857250771,
     "user": {
      "displayName": "GUILHERME BUENO MARTINS",
      "photoUrl": "https://lh3.googleusercontent.com/a/default-user=s64",
      "userId": "10704002773123979615"
     },
     "user_tz": 180
    },
    "id": "UPiUDkbeAkuR",
    "outputId": "19c7817a-ae4f-45ca-ab4b-aa6fcf51defc"
   },
   "outputs": [
    {
     "data": {
      "image/png": "[encoded data removed]",
      "text/plain": [
       "<PIL.BmpImagePlugin.BmpImageFile image mode=1 size=512x512 at 0x7F472A07CF90>"
      ]
     },
     "execution_count": 7,
     "metadata": {},
     "output_type": "execute_result"
    }
   ],
   "source": [
    "import PIL.Image as Image\n",
    "import io\n",
    "\n",
    "image = Image.open(imagem)\n",
    "image"
   ]
  }
 ],
 "metadata": {
  "colab": {
   "authorship_tag": "ABX9TyMJtIEw4FIQKeSZfHK97Zog",
   "collapsed_sections": [],
   "name": "Um pouco de imagens BMPs com Python.ipynb",
   "provenance": []
  },
  "kernelspec": {
   "display_name": "Python 3",
   "language": "python",
   "name": "python3"
  },
  "language_info": {
   "codemirror_mode": {
    "name": "ipython",
    "version": 3
   },
   "file_extension": ".py",
   "mimetype": "text/x-python",
   "name": "python",
   "nbconvert_exporter": "python",
   "pygments_lexer": "ipython3",
   "version": "3.8.5"
  }
 },
 "nbformat": 4,
 "nbformat_minor": 1
}
