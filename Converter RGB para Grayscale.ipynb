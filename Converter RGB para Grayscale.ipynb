{
 "cells": [
  {
   "cell_type": "code",
   "execution_count": 1,
   "metadata": {},
   "outputs": [],
   "source": [
    "#Importando Libs\n",
    "import numpy as np\n",
    "import cv2"
   ]
  },
  {
   "cell_type": "code",
   "execution_count": 2,
   "metadata": {},
   "outputs": [],
   "source": [
    "#Importando a imagem\n",
    "img = cv2.imread('D:/OneDrive/OneDrive - Etec Centro Paula Souza/Codes/Computational Vision/Imagens/lenna.jpg')"
   ]
  },
  {
   "cell_type": "code",
   "execution_count": 3,
   "metadata": {},
   "outputs": [],
   "source": [
    "#Imagem colorida (RGB) -> Imagem em níveis de cinza\n",
    "\n",
    "#Método 01\n",
    "#Inicialmente recebe-se a dimensão da imagem\n",
    "#Depois, percorre-se todos os pixels, soma-se as 3 bandas e dividi-se por 3\n",
    "\n",
    "img_gray=np.zeros((img.shape[0],img.shape[1]), dtype=\"uint8\")"
   ]
  },
  {
   "cell_type": "code",
   "execution_count": 4,
   "metadata": {},
   "outputs": [],
   "source": [
    "#Cria-se laços para percorrer os pixels de linha e coluna;\n",
    "#Em seguida, para cada pixel [l,c], soma-se as 3 camadas (RGB) e dividi-se 3\n",
    "#Com isso, obtêm-se uma única camada em escala de cinza\n",
    "\n",
    "for l in range (img.shape[0]):\n",
    "     for c in range (img.shape[1]):\n",
    "         (b, g, r) = img[l,c]\n",
    "         img_gray[l,c] = (int(b)+int(g)+int(r))//3"
   ]
  },
  {
   "cell_type": "code",
   "execution_count": 5,
   "metadata": {},
   "outputs": [],
   "source": [
    "#Exibição da Imagem Colorida e da Imagem em Escalas de Cinza\n",
    "\n",
    "cv2.imshow('Imagem Colorida', img);\n",
    "cv2.imshow('Imagem Grayscale', img_gray);\n",
    "cv2.waitKey(0);"
   ]
  },
  {
   "cell_type": "code",
   "execution_count": 6,
   "metadata": {},
   "outputs": [],
   "source": [
    "#Método 02 - Função COLOR_BGR2GRAY\n",
    "img_gray=cv2.cvtColor(img, cv2.COLOR_BGR2GRAY)"
   ]
  },
  {
   "cell_type": "code",
   "execution_count": 7,
   "metadata": {},
   "outputs": [],
   "source": [
    "#Exibição da Imagem Colorida e da Imagem em Escalas de Cinza\n",
    "\n",
    "cv2.imshow('Imagem Colorida', img);\n",
    "cv2.imshow('Imagem Grayscale', img_gray);\n",
    "cv2.waitKey(0);"
   ]
  }
 ],
 "metadata": {
  "kernelspec": {
   "display_name": "Python 3",
   "language": "python",
   "name": "python3"
  },
  "language_info": {
   "codemirror_mode": {
    "name": "ipython",
    "version": 3
   },
   "file_extension": ".py",
   "mimetype": "text/x-python",
   "name": "python",
   "nbconvert_exporter": "python",
   "pygments_lexer": "ipython3",
   "version": "3.8.5"
  }
 },
 "nbformat": 4,
 "nbformat_minor": 4
}
