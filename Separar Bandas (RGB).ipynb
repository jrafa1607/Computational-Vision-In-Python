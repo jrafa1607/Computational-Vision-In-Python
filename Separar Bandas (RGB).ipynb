{
 "cells": [
  {
   "cell_type": "code",
   "execution_count": 1,
   "metadata": {},
   "outputs": [],
   "source": [
    "#Importando Libs\n",
    "import numpy as np\n",
    "import cv2"
   ]
  },
  {
   "cell_type": "code",
   "execution_count": 2,
   "metadata": {},
   "outputs": [],
   "source": [
    "#Importando a imagem\n",
    "img = cv2.imread('D:/OneDrive/OneDrive - Etec Centro Paula Souza/Codes/Computational Vision/Imagens/lenna.jpg')"
   ]
  },
  {
   "cell_type": "code",
   "execution_count": 3,
   "metadata": {},
   "outputs": [],
   "source": [
    "#Visualizando a imagem\n",
    "cv2.imshow('Imagem Colorida', img);\n",
    "cv2.waitKey(0);"
   ]
  },
  {
   "cell_type": "code",
   "execution_count": 4,
   "metadata": {},
   "outputs": [],
   "source": [
    "#Separação em três bandas indenpendentes (RGB)\n",
    "\n",
    "#Método 01 com Split\n",
    "B, G, R = cv2.split(img)"
   ]
  },
  {
   "cell_type": "code",
   "execution_count": 5,
   "metadata": {},
   "outputs": [],
   "source": [
    "cv2.imshow('Banda azul', B);\n",
    "cv2.imshow('Banda verde', G);\n",
    "cv2.imshow('Banda vermelha', R);\n",
    "cv2.waitKey(0);"
   ]
  },
  {
   "cell_type": "code",
   "execution_count": 6,
   "metadata": {},
   "outputs": [],
   "source": [
    "#Método 02 - Matrizes Indenpendentes\n",
    "B = img[:,:,0]\n",
    "G = img[:,:,1]\n",
    "R = img[:,:,2]"
   ]
  },
  {
   "cell_type": "code",
   "execution_count": 7,
   "metadata": {},
   "outputs": [],
   "source": [
    "cv2.imshow('Banda azul', B);\n",
    "cv2.imshow('Banda verde', G);\n",
    "cv2.imshow('Banda vermelha', R);\n",
    "cv2.waitKey(0);"
   ]
  }
 ],
 "metadata": {
  "kernelspec": {
   "display_name": "Python 3",
   "language": "python",
   "name": "python3"
  },
  "language_info": {
   "codemirror_mode": {
    "name": "ipython",
    "version": 3
   },
   "file_extension": ".py",
   "mimetype": "text/x-python",
   "name": "python",
   "nbconvert_exporter": "python",
   "pygments_lexer": "ipython3",
   "version": "3.8.5"
  }
 },
 "nbformat": 4,
 "nbformat_minor": 4
}
