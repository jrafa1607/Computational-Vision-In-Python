{
 "cells": [
  {
   "cell_type": "code",
   "execution_count": 1,
   "metadata": {},
   "outputs": [],
   "source": [
    "#Importando Libs\n",
    "import numpy as np\n",
    "from PIL import Image\n",
    "import cv2"
   ]
  },
  {
   "cell_type": "code",
   "execution_count": 7,
   "metadata": {},
   "outputs": [],
   "source": [
    "#Abrindo a imagem com a biblioteca PIL"
   ]
  },
  {
   "cell_type": "code",
   "execution_count": 4,
   "metadata": {},
   "outputs": [],
   "source": [
    "img = Image.open('D:/OneDrive/OneDrive - Etec Centro Paula Souza/Codes/Computational Vision/Imagens/lenna.jpg')"
   ]
  },
  {
   "cell_type": "code",
   "execution_count": 8,
   "metadata": {},
   "outputs": [],
   "source": [
    "img.save('D:/OneDrive/OneDrive - Etec Centro Paula Souza/Codes/Computational Vision/Imagens/lenna_png.png')\n",
    "img.save('D:/OneDrive/OneDrive - Etec Centro Paula Souza/Codes/Computational Vision/Imagens/lenna_bmp.bmp')"
   ]
  },
  {
   "cell_type": "code",
   "execution_count": 9,
   "metadata": {},
   "outputs": [
    {
     "ename": "SyntaxError",
     "evalue": "invalid syntax (<ipython-input-9-b9f568cb4de8>, line 1)",
     "output_type": "error",
     "traceback": [
      "\u001b[1;36m  File \u001b[1;32m\"<ipython-input-9-b9f568cb4de8>\"\u001b[1;36m, line \u001b[1;32m1\u001b[0m\n\u001b[1;33m    Image.open(D:/OneDrive/OneDrive - Etec Centro Paula Souza/Codes/Computational Vision/Imagens/lenna.jpg).save('D:/OneDrive/OneDrive - Etec Centro Paula Souza/Codes/Computational Vision/Imagens/lenna_bmp.bmp')\u001b[0m\n\u001b[1;37m                ^\u001b[0m\n\u001b[1;31mSyntaxError\u001b[0m\u001b[1;31m:\u001b[0m invalid syntax\n"
     ]
    }
   ],
   "source": [
    "Image.open(D:/OneDrive/OneDrive - Etec Centro Paula Souza/Codes/Computational Vision/Imagens/lenna.jpg).save('D:/OneDrive/OneDrive - Etec Centro Paula Souza/Codes/Computational Vision/Imagens/lenna_bmp.bmp')"
   ]
  },
  {
   "cell_type": "code",
   "execution_count": null,
   "metadata": {},
   "outputs": [],
   "source": []
  }
 ],
 "metadata": {
  "kernelspec": {
   "display_name": "Python 3",
   "language": "python",
   "name": "python3"
  },
  "language_info": {
   "codemirror_mode": {
    "name": "ipython",
    "version": 3
   },
   "file_extension": ".py",
   "mimetype": "text/x-python",
   "name": "python",
   "nbconvert_exporter": "python",
   "pygments_lexer": "ipython3",
   "version": "3.8.5"
  }
 },
 "nbformat": 4,
 "nbformat_minor": 4
}
